{
 "cells": [
  {
   "cell_type": "code",
   "execution_count": null,
   "source": [
    "# draw positional encoding\n",
    "import matplotlib.pyplot as plt\n",
    "from positional_encoding import PositionalEncoding\n",
    "\n",
    "max_len = 30\n",
    "d_model = 128\n",
    "pe = PositionalEncoding(max_len, d_model).encoding()\n",
    "\n",
    "\n",
    "plt.figure(figsize=(8, 6))\n",
    "plt.pcolormesh(pe[0], cmap='viridis')\n",
    "plt.xlabel('Embedding Dims')\n",
    "plt.ylabel('Input Token Position')\n",
    "plt.xlim((0, d_model))\n",
    "plt.ylim((max_len, 0))\n",
    "plt.colorbar()\n",
    "plt.show()\n"
   ],
   "outputs": [],
   "metadata": {}
  }
 ],
 "metadata": {
  "orig_nbformat": 4,
  "language_info": {
   "name": "python",
   "version": "3.9.7",
   "mimetype": "text/x-python",
   "codemirror_mode": {
    "name": "ipython",
    "version": 3
   },
   "pygments_lexer": "ipython3",
   "nbconvert_exporter": "python",
   "file_extension": ".py"
  },
  "kernelspec": {
   "name": "python3",
   "display_name": "Python 3.9.7 64-bit ('.reproduce': venv)"
  },
  "interpreter": {
   "hash": "2bc4d7a28b55dafa1ff7f2e0ca10d5097d8f7743a15dceee24203fc06a689436"
  }
 },
 "nbformat": 4,
 "nbformat_minor": 2
}